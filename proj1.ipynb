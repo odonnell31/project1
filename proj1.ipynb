{
 "cells": [
  {
   "cell_type": "code",
   "execution_count": 13,
   "metadata": {},
   "outputs": [],
   "source": [
    "### import needed libraries\n",
    "import matplotlib.pyplot as plt\n",
    "import seaborn as sns\n",
    "import pandas as pd\n",
    "import numpy as np"
   ]
  },
  {
   "cell_type": "code",
   "execution_count": 9,
   "metadata": {},
   "outputs": [],
   "source": [
    "### load data in from csv to pandas dataframe\n",
    "book_data = pd.read_csv('C:/Users/ODsLaptop/Documents/CUNY/DATA_612_rec_systems/project1/project1/book_data.csv')"
   ]
  },
  {
   "cell_type": "code",
   "execution_count": 10,
   "metadata": {},
   "outputs": [],
   "source": [
    "### create a user-item matrix from the dataframe\n",
    "book_matrix = book_data.pivot_table(index='Reviewer', columns='Book',\n",
    "                                    values='Score')"
   ]
  },
  {
   "cell_type": "code",
   "execution_count": 11,
   "metadata": {},
   "outputs": [],
   "source": [
    "### break ratings into training and testing datasets\n",
    "from sklearn.model_selection import train_test_split\n",
    "train, test = train_test_split(book_matrix, test_size=0.2)"
   ]
  },
  {
   "cell_type": "code",
   "execution_count": 12,
   "metadata": {},
   "outputs": [
    {
     "name": "stdout",
     "output_type": "stream",
     "text": [
      "training raw average:  2.7058823529411766\n"
     ]
    }
   ],
   "source": [
    "### calculate the raw average of training data\n",
    "total_sum = (train['Hamlet'].sum(skipna=True) +\n",
    "      train['Count of Monte Cristo'].sum(skipna=True) +\n",
    "      train['The Aneid'].sum(skipna=True) +\n",
    "      train['The Odyssey'].sum(skipna=True) +\n",
    "      train['The Great Gatsby'].sum(skipna=True))\n",
    "\n",
    "total_entries = (~np.isnan(train)).sum(1).sum()\n",
    "\n",
    "train_mean = total_sum/total_entries\n",
    "\n",
    "print \"training raw average: \", train_mean"
   ]
  },
  {
   "cell_type": "code",
   "execution_count": 14,
   "metadata": {},
   "outputs": [
    {
     "name": "stdout",
     "output_type": "stream",
     "text": [
      "training RMSE:  -0.2443438914027151\n"
     ]
    }
   ],
   "source": [
    "### calculating rmse for training data\n",
    "stan_err = []\n",
    "for i in train.columns[1:5]:\n",
    "    for j in train[i]:\n",
    "       if  np.isnan(j) == False: \n",
    "           stan_err.append(j-train_mean)\n",
    "           \n",
    "train_rmse = sum(stan_err)/len(stan_err)\n",
    "\n",
    "print \"training RMSE: \", train_rmse"
   ]
  },
  {
   "cell_type": "code",
   "execution_count": 15,
   "metadata": {},
   "outputs": [
    {
     "name": "stdout",
     "output_type": "stream",
     "text": [
      "testing RMSE:  0.04411764705882337\n"
     ]
    }
   ],
   "source": [
    "stan_err = []\n",
    "for i in test.columns[1:5]:\n",
    "    for j in test[i]:\n",
    "       if  np.isnan(j) == False: \n",
    "           stan_err.append(j-train_mean)\n",
    "           \n",
    "test_rmse = sum(stan_err)/len(stan_err)\n",
    "\n",
    "print \"testing RMSE: \", test_rmse"
   ]
  },
  {
   "cell_type": "code",
   "execution_count": 16,
   "metadata": {},
   "outputs": [
    {
     "name": "stdout",
     "output_type": "stream",
     "text": [
      "Hamlet 2.66666666667\n",
      "The Aneid 2.66666666667\n",
      "The Great Gatsby 2.25\n",
      "The Odyssey 2.33333333333\n"
     ]
    }
   ],
   "source": [
    "# calculating the bias for each user\n",
    "\n",
    "for user in train.columns[1:5]:\n",
    "    print user, train[user].mean(skipna=True)"
   ]
  },
  {
   "cell_type": "code",
   "execution_count": 17,
   "metadata": {},
   "outputs": [
    {
     "name": "stdout",
     "output_type": "stream",
     "text": [
      "Reviewer\n",
      "Roger    1.75\n",
      "Sandy    4.00\n",
      "Diane    3.25\n",
      "Molly    2.00\n",
      "dtype: float64\n"
     ]
    }
   ],
   "source": [
    "print train.mean(axis=1, skipna=True)"
   ]
  },
  {
   "cell_type": "code",
   "execution_count": null,
   "metadata": {},
   "outputs": [],
   "source": []
  }
 ],
 "metadata": {
  "kernelspec": {
   "display_name": "Python 2",
   "language": "python",
   "name": "python2"
  },
  "language_info": {
   "codemirror_mode": {
    "name": "ipython",
    "version": 2
   },
   "file_extension": ".py",
   "mimetype": "text/x-python",
   "name": "python",
   "nbconvert_exporter": "python",
   "pygments_lexer": "ipython2",
   "version": "2.7.14"
  }
 },
 "nbformat": 4,
 "nbformat_minor": 2
}
